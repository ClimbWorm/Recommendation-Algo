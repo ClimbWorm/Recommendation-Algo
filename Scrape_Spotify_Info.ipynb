{
  "nbformat": 4,
  "nbformat_minor": 0,
  "metadata": {
    "colab": {
      "name": "Scrape Spotify Info.ipynb",
      "provenance": []
    },
    "kernelspec": {
      "name": "python3",
      "display_name": "Python 3"
    },
    "language_info": {
      "name": "python"
    }
  },
  "cells": [
    {
      "cell_type": "code",
      "source": [
        "#Author: Rong Li"
      ],
      "metadata": {
        "id": "GRA1XcQdsmuo"
      },
      "execution_count": null,
      "outputs": []
    },
    {
      "cell_type": "code",
      "source": [
        "%%capture output\n",
        "!pip install spotipy"
      ],
      "metadata": {
        "id": "vMEkGK2ZcnVb"
      },
      "execution_count": null,
      "outputs": []
    },
    {
      "cell_type": "code",
      "execution_count": null,
      "metadata": {
        "id": "0bxw0BCocltf"
      },
      "outputs": [],
      "source": [
        "import pandas as pd\n",
        "import numpy as np\n",
        "import os\n",
        "from google.colab import drive\n",
        "import spotipy\n",
        "from spotipy.oauth2 import SpotifyClientCredentials"
      ]
    },
    {
      "cell_type": "code",
      "source": [
        "drive.mount('/content/drive')\n",
        "os.chdir(\"drive/MyDrive/YOUR PATH/\")#change it to your path\n",
        "#NOTE: !cd does not work in colab"
      ],
      "metadata": {
        "id": "U_tMPfMrHl7y"
      },
      "execution_count": null,
      "outputs": []
    },
    {
      "cell_type": "code",
      "source": [
        "# SET UP YOUR INFORMATION\n",
        "token = \"ADD YOUR REQUESTED TOKEN HERE\"\n",
        "client_credentials_manager = SpotifyClientCredentials(client_id=\"ADD YOUR CLIENT_ID HERE\", client_secret=\"ADD YOUR CLIENT_SECRET HERE\")\n",
        "sp = spotipy.Spotify(client_credentials_manager = client_credentials_manager,auth = token)"
      ],
      "metadata": {
        "id": "TJVba6Huhqwv"
      },
      "execution_count": null,
      "outputs": []
    },
    {
      "cell_type": "code",
      "source": [
        "# USERNAMES YOU WANT TO SCRAPE, SAVED IN ONE COLUMN CALLED \"Usernames\" IN A .CSV\n",
        "user = pd.read_csv('YOUR FILE NAME.csv')\n",
        "user.head()"
      ],
      "metadata": {
        "id": "sJhOvXteK8sI"
      },
      "execution_count": null,
      "outputs": []
    },
    {
      "cell_type": "code",
      "source": [
        "user_list = list(user.Usernames)\n",
        "columns = ['username','playlist_uri','track_uri','track_name',\n",
        "          'artist_uri','artist_name','album','track_pop','acousticness',\n",
        "          'danceability','duration_ms','energy','instrumentalness',\n",
        "          'key','liveness','loudness','mode','speechiness',\n",
        "          'tempo','time_signature','valence']\n",
        "dataset = pd.DataFrame(columns=columns)"
      ],
      "metadata": {
        "id": "7pEqKgFP04ED"
      },
      "execution_count": null,
      "outputs": []
    },
    {
      "cell_type": "code",
      "source": [
        "def get_info(start_user_idx, end_user_idx,user_list,dataset):\n",
        "  for i in range(start_user_idx, end_user_idx+1):\n",
        "    try:\n",
        "      playlists = sp.user_playlists(user_list[i])[\"items\"]#the playlist of the ith user\n",
        "    except:\n",
        "      print(f\"There is no username: {user_list[i]}\")\n",
        "      continue\n",
        "    n_playlists = len(playlists)\n",
        "    if n_playlists == 0:\n",
        "      continue\n",
        "\n",
        "    for j in range(n_playlists):\n",
        "      playlist_URI = playlists[j][\"uri\"].split(\":\")[-1]#one of the playlists of the user\n",
        "      tracks = sp.playlist_tracks(playlist_URI)[\"items\"]\n",
        "      n_tracks = len(tracks)#number of tracks under this playlist\n",
        "      try:\n",
        "        track_uris = [track[\"track\"][\"uri\"] for track in tracks]\n",
        "\n",
        "        track_names = [track[\"track\"][\"name\"] for track in tracks]\n",
        "\n",
        "        #Artist\n",
        "        artist_uris = [track[\"track\"][\"artists\"][0][\"uri\"] for track in tracks]\n",
        "        artists_name = [track[\"track\"][\"artists\"][0][\"name\"] for track in tracks]\n",
        "\n",
        "        #album\n",
        "        albums = [track[\"track\"][\"album\"][\"name\"] for track in tracks]\n",
        "\n",
        "        #Popularity of the track\n",
        "        tracks_pop = [track[\"track\"][\"popularity\"] for track in tracks]\n",
        "\n",
        "        #use track uris to get the features of each track under one playlist\n",
        "        features_list = ['acousticness','danceability','duration_ms','energy',\n",
        "                        'instrumentalness','key','liveness','loudness','mode',\n",
        "                        'speechiness','tempo','time_signature','valence']\n",
        "        features = []\n",
        "        for track_uri in track_uris:\n",
        "          audio_features = sp.audio_features(track_uri)[0]\n",
        "          #[0]represent audio feature,so you can also loop other features\n",
        "          track_features = []\n",
        "          for feature in features_list:\n",
        "            track_features.append(audio_features[feature])\n",
        "          features.append(track_features)\n",
        "        acousticness, danceability,duration_ms,energy,instrumentalness,key,\\\n",
        "        liveness,loudness,mode,speechiness,tempo,time_signature,valence = np.reshape(features,(-1,len(features_list))).T\n",
        "\n",
        "        values_list = [[user_list[i]]*n_tracks,[playlist_URI]*n_tracks,track_uris,\n",
        "                      track_names,artist_uris,artists_name,albums,tracks_pop,\n",
        "                      acousticness, danceability,duration_ms,energy,instrumentalness,\n",
        "                      key,liveness,loudness,mode,speechiness,tempo,time_signature,valence]\n",
        "\n",
        "        df_add = pd.DataFrame({m:n for m,n in zip(columns,values_list)})\n",
        "        dataset = pd.concat([dataset,df_add])\n",
        "      except:\n",
        "        continue\n",
        "  return dataset"
      ],
      "metadata": {
        "id": "0ZC0PloHrNb-"
      },
      "execution_count": null,
      "outputs": []
    },
    {
      "cell_type": "code",
      "source": [
        "# PICK NO MATTER HOW MANY USERS YOU WANT TO SCRAPE, JUST PROVIDE THEIR INDEX IN THE LIST,\n",
        "# HOWEVER IF THERE WILL BE A LOT OF USERS, I RECOMMEND RUN CODE IN SEVERAL BATCHES DUE TO THE\n",
        "# LIMITED SCRAPING RATE SET BY SPOTIFY :)\n",
        "dataset = get_info(start_user_idx, end_user_idx,user_list,dataset)"
      ],
      "metadata": {
        "id": "ZrpyPvRFs4M_"
      },
      "execution_count": null,
      "outputs": []
    },
    {
      "cell_type": "code",
      "source": [
        "dataset.to_csv('dataset.csv')#save the data! CONGRATULATIONS!!!"
      ],
      "metadata": {
        "id": "6fwnXl1VuXhR"
      },
      "execution_count": null,
      "outputs": []
    }
  ]
}